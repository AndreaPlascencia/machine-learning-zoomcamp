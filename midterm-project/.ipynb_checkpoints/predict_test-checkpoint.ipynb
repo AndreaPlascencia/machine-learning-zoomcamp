{
 "cells": [
  {
   "cell_type": "code",
   "execution_count": 6,
   "id": "e4a2271f",
   "metadata": {},
   "outputs": [
    {
     "name": "stdout",
     "output_type": "stream",
     "text": [
      "{'cancer_class': 1}\n",
      "Yes cancer\n"
     ]
    }
   ],
   "source": [
    "import requests\n",
    "import pandas as pd\n",
    "import json\n",
    "\n",
    "\n",
    "url = 'http://localhost:9696/predict'\n",
    "\n",
    "DATA_PATH = 'data/BRCA.rnaseqv2__illuminahiseq_rnaseqv2__unc_edu__Level_3__RSEM_genes_normalized__data.data.txt'\n",
    "mrnaNorm = pd.read_csv(DATA_PATH, header=None, sep='\\t', skiprows=2)\n",
    "mrnaIDs = pd.read_csv(DATA_PATH, header=None, sep='\\t', nrows=1)\n",
    "mrnaIDs = mrnaIDs.iloc[:, 1:].iloc[0]\n",
    "\n",
    "# Create 'mrnaClass' and 'mrnaClassNum'\n",
    "samp = [t.split(\"-\")[3][:2] for t in mrnaIDs]\n",
    "sampleType = pd.DataFrame(samp)\n",
    "sampClass = [1 if int(t) < 10 else 0 for t in samp]\n",
    "mrnaClass = pd.DataFrame(sampClass)\n",
    "\n",
    "sampClassNum = [1 if int(t) < 10 else 0 for t in samp]\n",
    "mrnaClassNum = pd.DataFrame(sampClassNum)\n",
    "\n",
    "# Create 'geneNames'\n",
    "geneNames = mrnaNorm.iloc[:, 0]\n",
    "\n",
    "# Transpose 'mrnaNorm'\n",
    "mrnaData = mrnaNorm.iloc[:, 1:].T\n",
    "\n",
    "json_resultante = mrnaData.iloc[1000, :].to_json()\n",
    "\n",
    "json_cargado = json.loads(json_resultante)\n",
    "\n",
    "# Convertir las claves a tipo numérico\n",
    "customer = {int(k): v for k, v in json_cargado.items()}\n",
    "\n",
    "response = requests.post(url, json=customer).json() # .json() converts the response to JSON\n",
    "print(response)\n",
    "\n",
    "if response['cancer_class'] == 1:\n",
    "    print('Yes cancer')\n",
    "else:\n",
    "    print('No cancer')"
   ]
  },
  {
   "cell_type": "code",
   "execution_count": null,
   "id": "cf0a036e",
   "metadata": {},
   "outputs": [],
   "source": []
  }
 ],
 "metadata": {
  "kernelspec": {
   "display_name": "Python 3 (ipykernel)",
   "language": "python",
   "name": "python3"
  },
  "language_info": {
   "codemirror_mode": {
    "name": "ipython",
    "version": 3
   },
   "file_extension": ".py",
   "mimetype": "text/x-python",
   "name": "python",
   "nbconvert_exporter": "python",
   "pygments_lexer": "ipython3",
   "version": "3.9.18"
  }
 },
 "nbformat": 4,
 "nbformat_minor": 5
}
